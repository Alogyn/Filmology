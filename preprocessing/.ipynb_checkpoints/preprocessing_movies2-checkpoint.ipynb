{
 "cells": [
  {
   "cell_type": "markdown",
   "id": "382ae61a",
   "metadata": {},
   "source": [
    "## 1. Introduction\n",
    "**This notebook is designed to perform various tasks related to movie data processing, such as handling missing values, segmenting movies based on genres using KMeans clustering, and generating movie recommendations based on user input using cosine similarity.\n",
    "The project use the TMDb API for fetching movie posters, and the data used comes from a CSV file containing information about various movies.**\n",
    "## 2. Importing Libraries and Setting Up\n",
    "**We start by importing all necessary libraries that will be used throughout the notebook.\n",
    "These include libraries for data manipulation (Pandas, Numpy), visualization (Matplotlib, Seaborn), machine learning (KMeans, CountVectorizer, cosine_similarity), and interacting with the TMDb API.**"
   ]
  },
  {
   "cell_type": "code",
   "execution_count": 1,
   "id": "c83a2e91",
   "metadata": {
    "ExecuteTime": {
     "end_time": "2024-06-14T08:11:39.490218Z",
     "start_time": "2024-06-14T08:11:38.074437Z"
    }
   },
   "source": [
    "import pandas as pd\n",
    "import numpy as np\n",
    "import matplotlib.pyplot as plt\n",
    "import seaborn as sns\n",
    "from sklearn.cluster import KMeans\n",
    "from sklearn.preprocessing import StandardScaler\n",
    "from IPython.display import display, Image, HTML\n",
    "from tmdbv3api import TMDb, Movie\n",
    "from sklearn.feature_extraction.text import CountVectorizer\n",
    "from sklearn.metrics.pairwise import cosine_similarity\n",
    "\n",
    "# Setting up the TMDb API key for fetching movie posters\n",
    "tmdb = TMDb()\n",
    "tmdb.api_key = '4076f686fa1a8ca894500d3eef307265'"
   ],
   "outputs": []
  },
  {
   "cell_type": "markdown",
   "id": "1c7168eb",
   "metadata": {},
   "source": [
    "## 3. Data Preprocessing\n",
    "### 3.1 Loading the Data"
   ]
  },
  {
   "cell_type": "code",
   "execution_count": 2,
   "id": "be59fc6e",
   "metadata": {
    "ExecuteTime": {
     "end_time": "2024-06-14T08:11:40.611849Z",
     "start_time": "2024-06-14T08:11:39.490218Z"
    }
   },
   "source": [
    "# We load the movie dataset from a CSV file. The delimiter is specified as \";\" and\n",
    "# encoding is set to 'ISO-8859-1' to handle special characters correctly\n",
    "df = pd.read_csv(\"../dataset/movies2.csv\", delimiter=\";\",encoding='ISO-8859-1')\n",
    "\n",
    "# Display general information about the dataset, including the number of entries,\n",
    "# data types, and memory usage\n",
    "print(\"General information about the Movie data: \")\n",
    "df.info()\n",
    "\n",
    "# Checking for missing values in the dataset to identify columns that need treatment\n",
    "print(\"Missing values in the Movie data: \")\n",
    "print(df.isnull().sum())"
   ],
   "outputs": []
  },
  {
   "cell_type": "markdown",
   "id": "3cf4fa7e",
   "metadata": {},
   "source": [
    "### 3.2 Visualization of Missing Values"
   ]
  },
  {
   "cell_type": "code",
   "execution_count": 3,
   "id": "d6b698c5",
   "metadata": {},
   "source": [
    "# Visualize the number of missing values per column using a bar chart\n",
    "# This helps in identifying which columns have the most missing data\n",
    "missing_counts = df.isnull().sum()\n",
    "sns.set_palette('viridis')\n",
    "plt.figure(figsize=(10, 6))\n",
    "missing_counts.plot(kind='bar')\n",
    "plt.title('Number of Missing Values per Column')\n",
    "plt.xlabel('Columns')\n",
    "plt.ylabel('Number of Missing Values')\n",
    "plt.tight_layout()"
   ],
   "outputs": []
  },
  {
   "cell_type": "markdown",
   "id": "698b9b01",
   "metadata": {},
   "source": [
    "## 4. Handling Missing Values\n",
    "### 4.1 Treating Missing Values"
   ]
  },
  {
   "cell_type": "code",
   "execution_count": 4,
   "id": "95978bb8",
   "metadata": {
    "ExecuteTime": {
     "end_time": "2024-06-14T08:11:41.474767Z",
     "start_time": "2024-06-14T08:11:40.611849Z"
    }
   },
   "source": [
    "# We handle missing values by filling them with either a specific string (e.g., 'No rating', 'Unknown')\n",
    "# or using statistical measures like mean or median for numeric columns\n",
    "print(\"Handling missing values:\")\n",
    "df['rating'].fillna('No rating', inplace=True)\n",
    "df['released'].fillna('Unknown', inplace=True)\n",
    "df['score'].fillna(df['score'].mean(), inplace=True)\n",
    "df['votes'].fillna(df['votes'].median(), inplace=True)\n",
    "df['writer'].fillna('Unknown', inplace=True)\n",
    "df['star'].fillna('Unknown', inplace=True)\n",
    "df['country'].fillna('Unknown', inplace=True)\n",
    "df['budget'].fillna(df['budget'].median(), inplace=True)\n",
    "df['gross'].fillna(df['gross'].median(), inplace=True)\n",
    "df['company'].fillna('Unknown', inplace=True)\n",
    "df['runtime'].fillna(df['runtime'].median(), inplace=True)\n",
    "\n",
    "# Verify that missing values have been treated by printing the updated count of missing values\n",
    "print(df.isnull().sum())"
   ],
   "outputs": []
  },
  {
   "cell_type": "markdown",
   "id": "0e1a6b6e",
   "metadata": {},
   "source": [
    "### 4.2 Visualization After Treatment"
   ]
  },
  {
   "cell_type": "code",
   "execution_count": 5,
   "id": "699ea1b7",
   "metadata": {},
   "source": [
    "# Visualize the number of missing values per column after treatment to ensure that\n",
    "# the missing values have been appropriately handled\n",
    "missing_counts = df.isnull().sum()\n",
    "sns.set_palette('magma')\n",
    "plt.figure(figsize=(10, 6))\n",
    "missing_counts.plot(kind='bar')\n",
    "plt.title('Number of Missing Values per Column (After Treatment)')\n",
    "plt.xlabel('Columns')\n",
    "plt.ylabel('Number of Missing Values')\n",
    "plt.tight_layout()"
   ],
   "outputs": []
  },
  {
   "cell_type": "markdown",
   "id": "1e704741",
   "metadata": {},
   "source": [
    "## 5. Genre Distribution Analysis\n",
    "### 5.1 Analyze the distribution of movie genres"
   ]
  },
  {
   "cell_type": "code",
   "execution_count": 6,
   "id": "4bf34c3c",
   "metadata": {
    "ExecuteTime": {
     "end_time": "2024-06-14T08:11:42.275712Z",
     "start_time": "2024-06-14T08:11:41.477788Z"
    }
   },
   "source": [
    "# We separate the genres and count their occurrences to see which genres are most common\n",
    "genres_list = df['genre'].str.split('|').explode()\n",
    "\n",
    "# Count occurrences of each genre and display them using a bar chart\n",
    "genre_counts = genres_list.value_counts()\n",
    "plt.figure(figsize=(12, 9))\n",
    "sns.barplot(x=genre_counts.values, y=genre_counts.index, palette='viridis')\n",
    "plt.title('Distribution of Movie Genres')\n",
    "plt.xlabel('Number of Movies')\n",
    "plt.ylabel('Genres')"
   ],
   "outputs": []
  },
  {
   "cell_type": "markdown",
   "id": "c2b8f8ed",
   "metadata": {},
   "source": [
    "## 6. KMeans Clustering for Movie Segmentation\n",
    "### 6.1 Applying KMeans Clustering\n",
    "**We apply KMeans clustering to segment movies into clusters based on their genres.\n",
    "This helps in grouping similar movies together, which can later be used for recommendations.**\n"
   ]
  },
  {
   "cell_type": "code",
   "execution_count": 7,
   "id": "b8da9650",
   "metadata": {
    "ExecuteTime": {
     "end_time": "2024-06-14T08:11:49.573189Z",
     "start_time": "2024-06-14T08:11:42.278768Z"
    }
   },
   "source": [
    "# Example data (replace with your data)\n",
    "X = np.random.rand(100, 2)\n",
    "\n",
    "# Determining the optimal number of clusters using the Elbow Method\n",
    "k_range = range(1, 11)\n",
    "inertias = []\n",
    "for k in k_range:\n",
    "    kmeans = KMeans(n_clusters=k, random_state=42)\n",
    "    kmeans.fit(X)\n",
    "    inertias.append(kmeans.inertia_)\n",
    "\n",
    "# Plotting the elbow method graph to find the optimal number of clusters\n",
    "plt.figure(figsize=(8, 6))\n",
    "plt.plot(k_range, inertias, marker='o')\n",
    "plt.title('Elbow Method')\n",
    "plt.xlabel('Number of Clusters k')\n",
    "plt.ylabel('Inertia')\n",
    "plt.xticks(k_range)\n",
    "plt.grid(True)\n",
    "\n",
    "# Encode genres using one-hot encoding\n",
    "genres_encoded = pd.get_dummies(df['genre'].str.split('|').explode()).groupby(level=0).sum()\n",
    "\n",
    "# Standardize the data\n",
    "scaler = StandardScaler()\n",
    "genres_scaled = scaler.fit_transform(genres_encoded)\n",
    "\n",
    "# Apply KMeans clustering for segmentation\n",
    "kmeans = KMeans(n_clusters=3, random_state=42)\n",
    "clusters = kmeans.fit_predict(genres_scaled)\n",
    "\n",
    "# Add clusters to the DataFrame\n",
    "df['cluster'] = clusters\n",
    "\n",
    "# Displaying the movies in each cluster to understand how the segmentation worked\n",
    "for cluster_id in range(3):\n",
    "    cluster_movies = df[df['cluster'] == cluster_id]['name']\n",
    "    print(f\"Cluster {cluster_id}:\")\n",
    "    print(cluster_movies)"
   ],
   "outputs": []
  },
  {
   "cell_type": "markdown",
   "id": "f0fe1c36",
   "metadata": {},
   "source": [
    "## 7. Movie Recommendation System\n",
    "### 7.1 Calculating Cosine Similarity\n",
    "**We calculate the cosine similarity between movies based on their genre encoding. This similarity matrix will be used to recommend movies that are similar to a given movie.**"
   ]
  },
  {
   "cell_type": "code",
   "execution_count": 8,
   "id": "9a640cdb",
   "metadata": {},
   "source": [
    "cosine_sim = cosine_similarity(genres_scaled)\n",
    "\n",
    "print(\"Segmentation score matrix:\")\n",
    "print(\"\")\n",
    "print(cosine_sim[:, :10])"
   ],
   "outputs": []
  },
  {
   "cell_type": "markdown",
   "id": "e3cb62d5",
   "metadata": {},
   "source": [
    "### 7.2 Getting Recommendations"
   ]
  },
  {
   "cell_type": "code",
   "execution_count": 9,
   "id": "801823a4",
   "metadata": {
    "ExecuteTime": {
     "end_time": "2024-06-14T08:13:16.499569Z",
     "start_time": "2024-06-14T08:11:49.574784Z"
    }
   },
   "source": [
    "# The user is prompted to enter the name of a movie,\n",
    "# and the system will find similar movies based on the cosine similarity matrix\n",
    "film_name = input(\"Enter the movie name: \")\n",
    "film_index = df.index[df['name'] == film_name].tolist()\n",
    "\n",
    "# The user is prompted to enter the name of a movie, and the system will find similar movies\n",
    "# based on the cosine similarity matrix\n",
    "if not film_index:\n",
    "    print(\"Movie not found.\")\n",
    "else:\n",
    "    film_index = film_index[0]\n",
    "    similar_movies_indices = cosine_sim[film_index].argsort()[:-6:-1]\n",
    "    print(f\"Recommended movies for {df.iloc[film_index]['name']}:\")\n",
    "    for idx in similar_movies_indices:\n",
    "        if idx != film_index:\n",
    "            print(df.iloc[idx]['name'])"
   ],
   "outputs": []
  },
  {
   "cell_type": "markdown",
   "id": "510cff3b",
   "metadata": {},
   "source": [
    "## 8. Feature Engineering for Enhanced Recommendations\n",
    "### 8.1 Creating a Combined Feature\n",
    "**To improve the movie recommendation system, we combine multiple columns into a single feature. This feature will be used to calculate more accurate similarities between movies based on various aspects, not just genres.**"
   ]
  },
  {
   "cell_type": "code",
   "execution_count": 10,
   "id": "43b6b1d8",
   "metadata": {
    "ExecuteTime": {
     "end_time": "2024-06-14T08:13:17.576998Z",
     "start_time": "2024-06-14T08:13:16.508565Z"
    }
   },
   "source": [
    "# Combine relevant features into a single string for each movie\n",
    "df['info'] = df[['name','genre', 'director', 'writer', 'star','company']].apply(lambda x: ' '.join(x.astype(str)), axis=1)\n",
    "\n",
    "# Example of what the 'info' column looks like after combining the features\n",
    "print(df['info'].head())"
   ],
   "outputs": []
  },
  {
   "cell_type": "markdown",
   "id": "7d1791b5",
   "metadata": {},
   "source": [
    "### 8.2 Transforming the Combined Feature into Numerical Form\n",
    "**We use the `CountVectorizer` from the `sklearn.feature_extraction.text` module to transform the combined feature into a numerical matrix. This allows us to calculate similarities between movies based on this feature.**"
   ]
  },
  {
   "cell_type": "code",
   "execution_count": 11,
   "id": "989066c1",
   "metadata": {
    "ExecuteTime": {
     "end_time": "2024-06-14T08:13:18.228655Z",
     "start_time": "2024-06-14T08:13:17.582997Z"
    }
   },
   "source": [
    "# Use CountVectorizer to transform the 'info' feature into numerical form\n",
    "countV = CountVectorizer(min_df=20, stop_words='english')\n",
    "matrice_transform=countV.fit_transform(df['info'])\n",
    "matrice_transform.shape\n",
    "\n",
    "# Display the shape of the transformed matrix\n",
    "print(matrice_transform[:, :10].toarray())"
   ],
   "outputs": []
  },
  {
   "cell_type": "markdown",
   "id": "c7a4b3a1",
   "metadata": {},
   "source": [
    "### 8.3 Calculating Similarity Based on the Combined Feature\n",
    "**Next, we calculate the cosine similarity between movies based on the transformed 'info' feature. This similarity matrix will be used for making recommendations.**"
   ]
  },
  {
   "cell_type": "code",
   "execution_count": 12,
   "id": "4f76fe69",
   "metadata": {
    "ExecuteTime": {
     "end_time": "2024-06-14T08:13:19.034750Z",
     "start_time": "2024-06-14T08:13:18.236646Z"
    },
    "scrolled": true
   },
   "source": [
    "# Calculate cosine similarity based on the transformed features\n",
    "matrice_score=cosine_similarity(matrice_transform)\n",
    "\n",
    "# Print the first 10 columns of the similarity matrix as an example\n",
    "print('Score matrix')\n",
    "print(matrice_score[:, :10])"
   ],
   "outputs": []
  },
  {
   "cell_type": "markdown",
   "id": "5f4698e5",
   "metadata": {},
   "source": [
    "## 9. Advanced Movie Recommendation System\n",
    "### 9.1 Fetching Movie Posters Using TMDb API\n",
    "**To enhance the user experience, we fetch movie posters using the TMDb API. The get_movie_poster function retrieves the poster for a given movie title.**"
   ]
  },
  {
   "cell_type": "code",
   "execution_count": 13,
   "id": "3a79c6bf",
   "metadata": {
    "ExecuteTime": {
     "end_time": "2024-06-14T08:13:19.052750Z",
     "start_time": "2024-06-14T08:13:19.037749Z"
    }
   },
   "source": [
    "def get_movie_poster(movie_title):\n",
    "    movie = Movie()\n",
    "    try:\n",
    "        search = movie.search(movie_title)\n",
    "        if search:\n",
    "            poster_path = search[0].poster_path\n",
    "            if poster_path:\n",
    "                return f\"https://image.tmdb.org/t/p/original{poster_path}\"\n",
    "    except Exception as e:\n",
    "        print(f\"Error fetching poster for '{movie_title}': {e}\")\n",
    "    return None"
   ],
   "outputs": []
  },
  {
   "cell_type": "markdown",
   "id": "b314d1cd",
   "metadata": {},
   "source": [
    "### 9.2 Building the Recommendation System\n",
    "**The `film_recommender` function takes a movie title as input and returns a list of recommended movies along with their posters.**"
   ]
  },
  {
   "cell_type": "code",
   "execution_count": 16,
   "id": "3a2a5822",
   "metadata": {},
   "source": [
    "def film_recommander(titre, data, matrice_score, nombre=5):\n",
    "    lignes = data.index[data['name'].str.lower() == titre.lower()]\n",
    "    if len(lignes) == 0:\n",
    "        return [{'titre': 'Sorry! No similar movies found.', 'poster': None}]\n",
    "\n",
    "    ligne = lignes[0]\n",
    "    if ligne >= len(matrice_score):\n",
    "        return []\n",
    "\n",
    "    films_similaires = list(enumerate(matrice_score[ligne]))\n",
    "    recommandations = sorted(films_similaires, key=lambda x: x[1], reverse=True)\n",
    "    top_films_recommandes = recommandations[1:nombre + 1]\n",
    "    print(\"Beacause you liked '\",utilisateur,\"' we recommend: \")\n",
    "    films_recommandes = []\n",
    "    for i in range(len(top_films_recommandes)):\n",
    "        indice_film = top_films_recommandes[i][0]\n",
    "        if indice_film < len(data):\n",
    "            titre_film = data.iloc[indice_film]['name']\n",
    "            poster_url = get_movie_poster(titre_film)\n",
    "            films_recommandes.append({'titre': titre_film, 'poster': poster_url})\n",
    "    return films_recommandes"
   ],
   "outputs": []
  },
  {
   "cell_type": "markdown",
   "id": "4c44ecf6",
   "metadata": {},
   "source": [
    "### 9.3 Displaying Recommendations\n",
    "**Finally, we take user input and display the top 5 recommended movies with their posters.**"
   ]
  },
  {
   "cell_type": "code",
   "execution_count": 18,
   "id": "a637dbb7",
   "metadata": {
    "ExecuteTime": {
     "end_time": "2024-06-14T08:13:21.035707Z",
     "start_time": "2024-06-14T08:13:19.055743Z"
    }
   },
   "source": [
    "utilisateur = input(\"Enter a movie title: \")\n",
    "recommandations = film_recommander(titre=utilisateur, data=df, matrice_score=matrice_score, nombre=5)\n",
    "\n",
    "html_content = \"<div style='display: flex; flex-wrap: wrap;'>\"\n",
    "for film in recommandations:\n",
    "    html_content += f\"<div style='margin: 10px; text-align: center;'>\"\n",
    "    if film['poster']:\n",
    "        html_content += f\"<img src='{film['poster']}' style='width: 150px;'><br>\"\n",
    "    html_content += f\"<p>{film['titre']}</p>\"\n",
    "    html_content += \"</div>\"\n",
    "html_content += \"</div>\"\n",
    "\n",
    "display(HTML(html_content))"
   ],
   "outputs": []
  },
  {
   "cell_type": "markdown",
   "id": "c9be6e9f",
   "metadata": {
    "ExecuteTime": {
     "end_time": "2024-06-14T08:13:21.045485Z",
     "start_time": "2024-06-14T08:13:21.039246Z"
    }
   },
   "source": [
    "## 10. Conclusion\n",
    "**In this notebook, we've gone through various steps of movie data processing, including handling missing values, analyzing genre distribution, applying KMeans clustering for segmentation, and building a movie recommendation system using cosine similarity and feature engineering. We've also enhanced the recommendations with movie posters fetched from the TMDb API.**"
   ]
  }
 ],
 "metadata": {
  "kernelspec": {
   "display_name": "Python 3 (ipykernel)",
   "language": "python",
   "name": "python3"
  },
  "language_info": {
   "codemirror_mode": {
    "name": "ipython",
    "version": 3
   },
   "file_extension": ".py",
   "mimetype": "text/x-python",
   "name": "python",
   "nbconvert_exporter": "python",
   "pygments_lexer": "ipython3",
   "version": "3.11.5"
  }
 },
 "nbformat": 4,
 "nbformat_minor": 5
}
